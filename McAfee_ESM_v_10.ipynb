{
 "cells": [
  {
   "cell_type": "code",
   "execution_count": null,
   "metadata": {},
   "outputs": [],
   "source": [
    "# Authentication Procedure\n",
    "\n",
    "import base64\n",
    "import json\n",
    "import sys\n",
    "import requests\n",
    "requests.packages.urllib3.disable_warnings()\n",
    "\n",
    "# Authentication ESM parameters\n",
    "host = \"192.168.20.130\"\n",
    "user = \"NGCP\"\n",
    "passwd = \"McAfee123!\"\n",
    "\n",
    "# Login URL\n",
    "url = 'https://{}/rs/esm/login'.format(host)\n",
    "\n",
    "# Building authentication header\n",
    "creds = '{}:{}'.format(user, passwd)\n",
    "v9_b64_creds = base64.b64encode(creds.encode('utf-8'))\n",
    "\n",
    "headers = {'Authorization': 'Basic ' + v9_b64_creds.decode('utf-8'),\n",
    "           'Content-Type': 'application/json'}\n",
    "\n",
    "# Building data parameters\n",
    "v10_b64_user   = base64.b64encode(user.encode('utf-8')).decode()\n",
    "v10_b64_passwd = base64.b64encode(passwd.encode('utf-8')).decode()\n",
    "\n",
    "data = {\"username\": v10_b64_user, \n",
    "        \"password\": v10_b64_passwd,\n",
    "        \"locale\": \"en_US\",\n",
    "        \"os\":\"Win32\"}\n",
    "\n",
    "\n",
    "\n",
    "# Connect to the server RESTful API\n",
    "try:\n",
    "    r = requests.post(url, data=json.dumps(data), headers=headers, verify=False)\n",
    "    \n",
    "except requests.exceptions.ConnectionError:\n",
    "    print 'Error connecting to ESM'\n",
    "    sys.exit(1)\n",
    "\n",
    "# Minimum  error control\n",
    "if r.status_code in [400, 401]:\n",
    "    print 'Ivalid Username or password'\n",
    "    sys.exit(1)\n",
    "elif 402 <= r.status_code <= 600:\n",
    "    print'ESM Login Error: ', r.text\n",
    "    sys.exit(1)\n",
    "    \n",
    "print 'Connection status code: %s '%(r.status_code)\n",
    "\n",
    "# With the information obtained we build the authenticated header \n",
    "# This auth_headerwill be used in further calls to the API\n",
    "auth_header                 = {'Content-Type': 'application/json'}\n",
    "auth_header['Cookie']       = r.headers.get('Set-Cookie')\n",
    "auth_header['X-Xsrf-Token'] = r.headers.get('Xsrf-Token')\n",
    "auth_header['SID']          = r.headers.get('Location')\n",
    "\n",
    "print auth_header"
   ]
  },
  {
   "cell_type": "code",
   "execution_count": 25,
   "metadata": {},
   "outputs": [
    {
     "name": "stdout",
     "output_type": "stream",
     "text": [
      "Connection status code: 200 \n",
      "SIEM Time: 2018-05-25T10:18:11.0+0000\n"
     ]
    }
   ],
   "source": [
    "# ESM time procedure\n",
    "\n",
    "# Time URL\n",
    "url = 'https://{}/rs/esm/essmgtGetESSTime'.format(host)\n",
    "data = None\n",
    "\n",
    "r = requests.post(url, data = data, headers = auth_header, verify = False)\n",
    "\n",
    "print 'Connection status code: %s '%(r.status_code)\n",
    "\n",
    "r = r.json()['return']\n",
    "\n",
    "print 'SIEM Time: %s'%r['value']"
   ]
  },
  {
   "cell_type": "code",
   "execution_count": 26,
   "metadata": {},
   "outputs": [
    {
     "name": "stdout",
     "output_type": "stream",
     "text": [
      "Connection status code: 200 \n",
      "SIEM buildStamp: 10.2.0 20171116224008\n",
      "SIEM version 10.2.0\n"
     ]
    }
   ],
   "source": [
    "# Getting builtstamp from ESM\n",
    "\n",
    "# Build Stamp URL\n",
    "url = 'https://{}/rs/esm/essmgtGetBuildStamp'.format(host)\n",
    "data = None\n",
    "\n",
    "r = requests.post(url, data = data, headers = auth_header, verify = False)\n",
    "\n",
    "print 'Connection status code: %s '%(r.status_code)\n",
    "\n",
    "r = r.json()['return']\n",
    "\n",
    "print 'SIEM buildStamp: %s'%r['buildStamp']\n",
    "siem_ver = r['buildStamp'].split()[0]\n",
    "print 'SIEM version %s'%siem_ver"
   ]
  },
  {
   "cell_type": "code",
   "execution_count": 27,
   "metadata": {},
   "outputs": [
    {
     "name": "stdout",
     "output_type": "stream",
     "text": [
      "Connection status code: 200 \n",
      "SIEM General status: {u'autoBackupEnabled': True, u'statusAndAlertsCheckHour': 0, u'ram': u'Avail: 7978MB, Used: 7415MB, Free: 562MB', u'rulesAndSoftNextCheck': u'2018/03/07 07:57:00', u'hdd': u'sda3     Size:  241GB, Used:   11GB( 5%), Available:  218GB, Mount: /', u'rulesAndSoftLastCheck': u'2018/03/06 19:57:10', u'overviewItems': [{u'log': 1, u'flow': 1, u'alert': 1, u'hasRights': True, u'version': 10002000, u'model': u'ENMELM-VM8', u'label': u'Local Receiver-ELM', u'ipsid': 144116287587483648L}, {u'log': 1, u'flow': 0, u'alert': 1, u'hasRights': True, u'version': 10002000, u'model': u'ELS-VM8', u'label': u'ELS Engine', u'ipsid': 144118486610739200L}, {u'log': 1, u'flow': 1, u'alert': 1, u'hasRights': True, u'version': 10002000, u'model': u'ACE-VM8', u'label': u'ACE Engine', u'ipsid': 144119586122366976L}], u'backupLastTime': u'2018/05/18 13:03:03', u'backupNextTime': u'2018/05/25 13:03', u'rulesAndSoftwareExpireTime': u'', u'statusAndAlertNextCheckIn': u'2018/05/25 12:17:47', u'machineID': u'8AFD:B4F1', u'autoBackupDay': 7, u'callHomeIp': u'', u'customerID': None, u'serialNumber': u'GUARDIACI', u'esssystemTime': 1527243498, u'statusAndAlertLastCheck': u'2018/05/25 12:17:47', u'rulesAndSoftwareCheckEnabled': False, u'statusAndAlertsCheckEnabled': True, u'alertFlowInfo': {u'alertFlowIsRebuilding': False, u'alertInfo': {u'atn': u'Alert', u'apc': 0, u'atp': 0, u'apct': 100, u'ast': u''}, u'flowInfo': {u'ftp': 0, u'fpct': 100, u'fst': u'', u'fpc': 0, u'ftn': u'Connection'}, u'alertFlowElapsedTime': 0, u'alertFlowPCT': 100}, u'autoBackupHour': 0, u'releaseNumber': u'10.2.0 20171116224008', u'ipsautoGetAlerts': 3, u'processor': u'Intel(R) Core(TM) i5-6300U CPU @ 2.40GHz [4] (CPU Load: 4.50%)', u'statusAndAlertsCheckMin': 10}\n",
      "\n",
      "\n",
      "SIEM Disk information: \tsda3     Size:  241GB, Used:   11GB( 5%), Available:  218GB, Mount: /\n",
      "SIEM Ram information: \tAvail: 7978MB, Used: 7415MB, Free: 562MB\n"
     ]
    }
   ],
   "source": [
    "# Getting the status of the system\n",
    "\n",
    "# Status URL\n",
    "url = 'https://{}/rs/esm/sysGetSysInfo'.format(host)\n",
    "data = None\n",
    "\n",
    "r = requests.post(url, data = data, headers = auth_header, verify = False)\n",
    "\n",
    "print 'Connection status code: %s '%(r.status_code)\n",
    "\n",
    "r = r.json()['return']\n",
    "\n",
    "print 'SIEM General status: %s'%r\n",
    "siem_disk_info = r['hdd']\n",
    "print '\\n\\nSIEM Disk information: \\t%s'%siem_disk_info\n",
    "siem_ram_info = r['ram']\n",
    "print \"SIEM Ram information: \\t%s\"%siem_ram_info"
   ]
  },
  {
   "cell_type": "code",
   "execution_count": 28,
   "metadata": {},
   "outputs": [
    {
     "name": "stdout",
     "output_type": "stream",
     "text": [
      "200\n",
      "140471397892928\n"
     ]
    }
   ],
   "source": [
    "# Procedure to query for events\n",
    "\n",
    "'''\n",
    "Description: This procedure execute a query against the ESM to get information from\n",
    "\n",
    "    Input:       fields       --> List of fields we want to get from\n",
    "                 filters      --> Dic with the following format: {'field':'field_value', \n",
    "                                                                  'operator': 'type_of_operator', \n",
    "                                                                  'values':'value' }\n",
    "                 time_range   --> Valid Period of time to get the information from\n",
    "                 custom_start --> if time range is CUSTOM, custom_start identify the start time\n",
    "                 custom_end   --> if time_range is CUSTOM, custo_end identify the finish time\n",
    "                 limit        --> Number of rows (logs entries) we want to get, 0 equal unlimitted.\n",
    "                 total        --> If we want to get the total values, by defualt 0\n",
    "\n",
    "    Output:\t\t Job_ID, this value will be used later on to check the status of the query \n",
    "                and get the final information\n",
    "\n",
    "    Example Json:\n",
    "\n",
    "            {\"config\": {\n",
    "                        \"timeRange\": \"CUSTOM\",\n",
    "                        \"customStart\": \"2014-12-19T12:31:02.203Z\",\n",
    "                        \"customEnd\": \"2014-12-19T12:31:02.204Z\",\n",
    "                        \"order\": \n",
    "                            [{\n",
    "                            \"direction\": \"ASCENDING\",\n",
    "                            \"field\": {\"name\": \"(name)\"}\n",
    "                            }],\n",
    "                        \"includeTotal\": false,\n",
    "                        \"fields\": [{\"name\": \"(name)\"}],\n",
    "                        \"filters\": \n",
    "                            [{\n",
    "                            \"type\": \"EsmFieldFilter\",\n",
    "                            \"field\": {\"name\": \"(name)\"},\n",
    "                            \"operator\": \"IN\",\n",
    "                            \"values\": \n",
    "                                [{\n",
    "                                \"type\": \"EsmBasicValue\",\n",
    "                                \"value\": \"(value)\"\n",
    "                                }]\n",
    "                            }],\n",
    "                        \"limit\": 0\n",
    "                    }\n",
    "            }\n",
    "'''\n",
    "fields=None \n",
    "filters=None\n",
    "time_range='LAST_HOUR'\n",
    "custom_start = None\n",
    "custom_end = None\n",
    "limit=0\n",
    "total=False\n",
    "\n",
    "#--> We are filtering using the value 57 = Correlated Engine and 380 = ACE CORRELATION\n",
    "filters = {'field':'DSID', 'operator': 'IN', 'values':'47, 380'} \n",
    "#filters = {'field':'IPSID', 'operator': 'IN', 'values': ipsid_value} \n",
    "#filters = {'field':'ID', 'operator': 'IN', 'values': '1119663'} #--> Ejemplo de fitlro por identificador de evento\n",
    "\n",
    "fields  = ['FirstTime','LastTime','ThirdPartyType.Name','DSID','IPSID','AlertID',\\\n",
    "          'Rule_NDSNormSigID.msg','Rule.msg','Rule_Name','Action.Name','EventCount','Severity','AvgSeverity',\\\n",
    "          'SrcIP','SrcPort','DstIP','DstPort','Protocol',\\\n",
    "          'UserIDSrc','UserIDDst','Message_Text','ID','GeoLoc_ASNGeoDst.Msg','GeoLoc_ASNGeoSrc.Msg']\n",
    "\n",
    "\n",
    "time_range = 'CURRENT_YEAR'\n",
    "\n",
    "\n",
    "url = 'https://{}/rs/esm/qryExecuteDetail'.format(host)\n",
    "\n",
    "list_of_fields  = []\n",
    "list_of_filters = []\n",
    "\n",
    "if fields:\n",
    "    for each_field in fields:\n",
    "        list_of_fields.append({'name': each_field})\n",
    "else:\n",
    "    list_of_fields = []\n",
    "\n",
    "\n",
    "if filters:\n",
    "    list_of_filters.append({\"type\": \"EsmFieldFilter\",\"field\": {\"name\": filters['field']}, \n",
    "                            \"operator\": filters['operator'], \n",
    "                            \"values\":[{\"type\": \"EsmBasicValue\", \n",
    "                                       \"value\": filters['values']\n",
    "                                      }]})\n",
    "else:\n",
    "    list_of_filters = []\n",
    "\n",
    "# BETA #\n",
    "\n",
    "order = [{\n",
    "         \"direction\": \"DESCENDING\", \n",
    "         \"field\": {\"name\": \"LastTime\"}\n",
    "        }]\n",
    "\n",
    "\n",
    "if time_range == 'CUSTOM':\n",
    "\n",
    "    payload =  {'config' : \n",
    "                    {\n",
    "                    'timeRange'    : time_range,\n",
    "                    'customStart'  : custom_start,\n",
    "                    'customEnd'    : custom_end,\n",
    "                    'order'        : order,\n",
    "                    'includeTotal' : total,\n",
    "                    'fields'       : list_of_fields,\n",
    "                    'filters'      : list_of_filters,\n",
    "                    'limit'        : limit\n",
    "                    }\n",
    "                }\n",
    "else:\n",
    "    payload =  {'config' : \n",
    "                    {\n",
    "                    'timeRange'    : time_range,\n",
    "                    'order'        : order,\n",
    "                    'includeTotal' : total,\n",
    "                    'fields'       : list_of_fields,\n",
    "                    'filters'      : list_of_filters,\n",
    "                    'limit'        : limit\n",
    "                    }\n",
    "                }\n",
    "\n",
    "r = requests.post(url + '/?type=EVENT&reverse=false', data = json.dumps(payload), headers=auth_header, verify=False)\n",
    "\n",
    "print r.status_code\n",
    "r = r.json()['return']\n",
    "\n",
    "job_id = r['resultID']['value']\n",
    "\n",
    "print job_id\n",
    "                           "
   ]
  },
  {
   "cell_type": "code",
   "execution_count": 29,
   "metadata": {},
   "outputs": [
    {
     "name": "stdout",
     "output_type": "stream",
     "text": [
      "200\n",
      "{u'return': {u'totalRecords': 17, u'complete': True, u'milliseconds': 158, u'percentComplete': 100}}\n"
     ]
    }
   ],
   "source": [
    "# Getting the Status of the query\n",
    "\n",
    "payload = {'resultID':{'value': job_id}}\n",
    "\n",
    "\n",
    "url = 'https://{}/rs/esm/qryGetStatus'.format(host)\n",
    "\n",
    "r = requests.post(url, data = json.dumps(payload), headers=auth_header, verify=False)\n",
    "\n",
    "print r.status_code\n",
    "\n",
    "r = r.json()\n",
    "\n",
    "print r\n"
   ]
  },
  {
   "cell_type": "code",
   "execution_count": 20,
   "metadata": {},
   "outputs": [
    {
     "name": "stdout",
     "output_type": "stream",
     "text": [
      "200\n",
      "{u'return': {u'rows': [{u'values': [u'2018/03/07 23:28:11', u'2018/03/07 23:28:11', u'Correlation Engine', u'47', u'144119586139144192', u'93', u'Login', u'Suspicious - Internal IP Login without Logout', u'', u'success', u'1', u'8', u'8', u'192.168.20.1', u'0', u'192.168.20.130', u'0', u'n/a', u'NGCP', u'', u'', u'201867463052', u'', u'']}, {u'values': [u'2018/03/06 19:33:25', u'2018/03/06 19:33:25', u'Correlation Engine', u'47', u'144116287604260864', u'8494', u'Login', u'Custom - Double Authentication', u'', u'informational', u'1', u'50', u'50', u'192.168.20.210', u'50800', u'192.168.20.130', u'0', u'n/a', u'root', u'', u'Mar  6 17:33:25 McAfee sshd[1730]: Accepted password for root from 192.168.20.210 port 50800 ssh2', u'201869462914', u'', u'']}, {u'values': [u'2018/03/06 19:33:03', u'2018/03/06 19:33:03', u'Correlation Engine', u'47', u'144116287604260864', u'8493', u'Login', u'Custom - Double Authentication', u'', u'informational', u'1', u'50', u'50', u'192.168.20.1', u'58164', u'192.168.20.130', u'0', u'n/a', u'root', u'', u'Mar  6 17:30:59 McAfee sshd[865]: Failed password for root from 192.168.20.1 port 58164 ssh2', u'201869462914', u'', u'']}, {u'values': [u'2018/03/06 19:25:01', u'2018/03/06 19:25:01', u'Correlation Engine', u'47', u'144116287604260864', u'8485', u'Login', u'Custom - Double Authentication', u'', u'start', u'1', u'50', u'50', u'192.168.20.210', u'0', u'::', u'0', u'n/a', u'root', u'', u'', u'201869462914', u'', u'']}, {u'values': [u'2018/03/06 19:18:02', u'2018/03/06 19:18:02', u'Correlation Engine', u'47', u'144116287604260864', u'8484', u'Login', u'Custom - Double Authentication', u'', u'start', u'1', u'50', u'50', u'192.168.20.210', u'0', u'::', u'0', u'n/a', u'cmunoz', u'cmunoz', u'', u'201869462914', u'', u'']}, {u'values': [u'2018/03/06 19:11:34', u'2018/03/06 19:11:34', u'Correlation Engine', u'47', u'144116287604260864', u'8473', u'Login', u'Custom - Double Authentication', u'', u'start', u'1', u'50', u'50', u'192.168.20.210', u'0', u'::', u'0', u'n/a', u'cmunoz', u'cmunoz', u'', u'201869462914', u'', u'']}, {u'values': [u'2018/03/06 19:11:23', u'2018/03/06 19:11:23', u'Correlation Engine', u'47', u'144116287604260864', u'8466', u'Login', u'Custom - Double Authentication', u'', u'start', u'1', u'50', u'50', u'192.168.20.210', u'0', u'::', u'0', u'n/a', u'cmunoz', u'cmunoz', u'', u'201869462914', u'', u'']}, {u'values': [u'2018/03/05 11:09:02', u'2018/03/05 11:09:02', u'Correlation Engine', u'47', u'144116287604260864', u'8222', u'Login', u'Suspicious - User Logon from Multiple IP Addresses', u'', u'success', u'1', u'31', u'31', u'192.168.20.1', u'0', u'192.168.20.130', u'0', u'n/a', u'NGCP', u'', u'', u'201867463049', u'', u'']}, {u'values': [u'2018/03/05 10:50:25', u'2018/03/05 10:50:25', u'Correlation Engine', u'47', u'144116287604260864', u'8239', u'Login', u'Suspicious - Internal IP Login without Logout', u'', u'alert', u'1', u'8', u'8', u'::', u'0', u'::', u'0', u'n/a', u'', u'', u'', u'201867463052', u'', u'']}, {u'values': [u'2018/03/02 14:50:07', u'2018/03/02 14:50:07', u'Correlation Engine', u'47', u'144116287604260864', u'8221', u'Login', u'Suspicious - Internal IP Login without Logout', u'', u'success', u'1', u'8', u'8', u'192.168.20.1', u'0', u'192.168.20.130', u'0', u'n/a', u'NGCP', u'', u'', u'201867463052', u'', u'']}, {u'values': [u'2018/03/02 12:21:05', u'2018/03/02 12:21:05', u'Correlation Engine', u'47', u'144116287604260864', u'8220', u'Login', u'Suspicious - Internal IP Login without Logout', u'', u'success', u'1', u'8', u'8', u'192.168.20.1', u'0', u'192.168.20.130', u'0', u'n/a', u'NGCP', u'', u'', u'201867463052', u'', u'']}, {u'values': [u'2018/02/20 17:41:01', u'2018/02/20 17:41:01', u'Correlation Engine', u'47', u'144116287604260864', u'8219', u'Login', u'Suspicious - Internal IP Login without Logout', u'', u'alert', u'1', u'8', u'8', u'::', u'0', u'::', u'0', u'n/a', u'', u'', u'', u'201867463052', u'', u'']}, {u'values': [u'2018/02/20 17:07:43', u'2018/02/20 17:07:43', u'Correlation Engine', u'47', u'144116287604260864', u'8218', u'Login', u'Suspicious - Internal IP Login without Logout', u'', u'alert', u'1', u'8', u'8', u'::', u'0', u'::', u'0', u'n/a', u'', u'', u'', u'201867463052', u'', u'']}, {u'values': [u'2018/02/20 16:58:09', u'2018/02/20 16:58:09', u'Correlation Engine', u'47', u'144116287604260864', u'8217', u'Login', u'Suspicious - Internal IP Login without Logout', u'', u'alert', u'1', u'8', u'8', u'::', u'0', u'::', u'0', u'n/a', u'', u'', u'', u'201867463052', u'', u'']}, {u'values': [u'2018/02/20 16:09:46', u'2018/02/20 16:09:46', u'Correlation Engine', u'47', u'144116287604260864', u'8216', u'Login', u'Suspicious - Internal IP Login without Logout', u'', u'alert', u'1', u'8', u'8', u'::', u'0', u'::', u'0', u'n/a', u'', u'', u'', u'201867463052', u'', u'']}, {u'values': [u'2018/02/20 16:09:37', u'2018/02/20 16:09:37', u'Correlation Engine', u'47', u'144116287604260864', u'8215', u'Login', u'Suspicious - Internal IP Login without Logout', u'', u'alert', u'1', u'8', u'8', u'::', u'0', u'::', u'0', u'n/a', u'', u'', u'', u'201867463052', u'', u'']}, {u'values': [u'2018/02/20 15:21:45', u'2018/02/20 15:21:45', u'Correlation Engine', u'47', u'144116287604260864', u'8214', u'Login', u'Suspicious - Internal IP Login without Logout', u'', u'alert', u'1', u'8', u'8', u'::', u'0', u'::', u'0', u'n/a', u'', u'', u'', u'201867463052', u'', u'']}], u'columns': [{u'name': u'Alert.FirstTime'}, {u'name': u'Alert.LastTime'}, {u'name': u'ThirdPartyType.Name'}, {u'name': u'Alert.DSID'}, {u'name': u'Alert.IPSID'}, {u'name': u'Alert.AlertID'}, {u'name': u'Rule_NDSNormSigID.msg'}, {u'name': u'Rule.msg'}, {u'name': u'Alert.65616'}, {u'name': u'Action.Name'}, {u'name': u'Alert.EventCount'}, {u'name': u'Alert.Severity'}, {u'name': u'Alert.AvgSeverity'}, {u'name': u'Alert.SrcIP'}, {u'name': u'Alert.SrcPort'}, {u'name': u'Alert.DstIP'}, {u'name': u'Alert.DstPort'}, {u'name': u'Alert.Protocol'}, {u'name': u'Alert.BIN(7)'}, {u'name': u'Alert.BIN(6)'}, {u'name': u'Alert.4259842'}, {u'name': u'Rule.ID'}, {u'name': u'GeoLoc_ASNGeoDst.Msg'}, {u'name': u'GeoLoc_ASNGeoSrc.Msg'}]}}\n"
     ]
    }
   ],
   "source": [
    "# Procedure to get the list of events related to previous job_id\n",
    "\n",
    "payload = {'resultID':{'value': job_id}}\n",
    "\n",
    "url = 'https://{}/rs/esm/qryGetResults'.format(host)\n",
    "\n",
    "r = requests.post(url + '/?startPos=0&numRows=5000&reverse=false', data = json.dumps(payload), \n",
    "                  headers=auth_header, verify=False)\n",
    "\n",
    "print r.status_code\n",
    "\n",
    "r = r.json()\n",
    "\n",
    "print r"
   ]
  },
  {
   "cell_type": "code",
   "execution_count": 30,
   "metadata": {},
   "outputs": [
    {
     "name": "stdout",
     "output_type": "stream",
     "text": [
      "200\n",
      "{u'return': [{u'values': [u'2018/03/07 23:28:11', u'2018/03/07 23:28:11', u'McAfee Enterprise Security Manager', u'306', u'144115188075855872', u'Login', u'User Logon', u'', u'success', u'1', u'19', u'19', u'192.168.20.1', u'0', u'192.168.20.130', u'0', u'n/a', u'NGCP', u'', u'', u'1050', u'', u'']}]}\n"
     ]
    }
   ],
   "source": [
    "# AS my previous query is filtered by the Correlation engine, now I want all the source events associated.\n",
    "IPSID   = '144116287604260864'\n",
    "AlertID = '8494'\n",
    "\n",
    "IPSID ='144119586139144192'\n",
    "AlertID ='93'\n",
    "\n",
    "\n",
    "correlated_event_ID = IPSID + '|' + AlertID \n",
    "\n",
    "\n",
    "fields  = ['FirstTime','LastTime','ThirdPartyType.Name','DSID','IPSID',\\\n",
    "          'Rule_NDSNormSigID.msg','Rule.msg','Rule_Name','Action.Name','EventCount','Severity','AvgSeverity',\\\n",
    "          'SrcIP','SrcPort','DstIP','DstPort','Protocol',\\\n",
    "          'UserIDSrc','UserIDDst','Message_Text','ID','GeoLoc_ASNGeoDst.Msg','GeoLoc_ASNGeoSrc.Msg']\n",
    "\n",
    "list_of_fields  = []\n",
    "\n",
    "if fields:\n",
    "    for each_field in fields:\n",
    "        list_of_fields.append({'name': each_field})\n",
    "else:\n",
    "    list_of_fields = []\n",
    "\n",
    "\n",
    "payload = {'eventId': {'value':correlated_event_ID},'fields' : list_of_fields}\n",
    "\n",
    "url = 'https://{}/rs/esm/qryGetCorrEventDataForID'.format(host)\n",
    "\n",
    "r = requests.post(url + '?queryType=EVENT', data = json.dumps(payload), headers=auth_header, verify=False)\n",
    "\n",
    "print r.status_code\n",
    "\n",
    "r = r.json()\n",
    "\n",
    "print r\n"
   ]
  },
  {
   "cell_type": "code",
   "execution_count": 32,
   "metadata": {},
   "outputs": [
    {
     "name": "stdout",
     "output_type": "stream",
     "text": [
      "Connection status code: 401 \n"
     ]
    }
   ],
   "source": [
    "# Logout procedure\n",
    "\n",
    "# Logout URL\n",
    "url = 'https://{}/rs/esm/logout'.format(host)\n",
    "\n",
    "r = requests.delete(url, headers=auth_header, verify=False)\n",
    "\n",
    "print 'Connection status code: %s '%(r.status_code)"
   ]
  },
  {
   "cell_type": "code",
   "execution_count": null,
   "metadata": {},
   "outputs": [],
   "source": []
  },
  {
   "cell_type": "code",
   "execution_count": null,
   "metadata": {},
   "outputs": [],
   "source": []
  }
 ],
 "metadata": {
  "kernelspec": {
   "display_name": "Python 2",
   "language": "python",
   "name": "python2"
  },
  "language_info": {
   "codemirror_mode": {
    "name": "ipython",
    "version": 2
   },
   "file_extension": ".py",
   "mimetype": "text/x-python",
   "name": "python",
   "nbconvert_exporter": "python",
   "pygments_lexer": "ipython2",
   "version": "2.7.13"
  }
 },
 "nbformat": 4,
 "nbformat_minor": 2
}
